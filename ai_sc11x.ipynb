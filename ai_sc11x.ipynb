{
  "nbformat": 4,
  "nbformat_minor": 0,
  "metadata": {
    "colab": {
      "provenance": []
    },
    "kernelspec": {
      "name": "python3",
      "display_name": "Python 3"
    },
    "language_info": {
      "name": "python"
    }
  },
  "cells": [
    {
      "cell_type": "markdown",
      "source": [
        "<img src='https://i.imgur.com/RDAD11M.png' width = '200' align = 'right'>\n",
        "\n",
        "# **SC11x**\n",
        "\n",
        "# **Data Preprocessing & Exploratory Data Analysis**"
      ],
      "metadata": {
        "id": "Pj4YIBmHkJK1"
      }
    },
    {
      "cell_type": "markdown",
      "source": [
        "## **Part 1. Data Wrangling**\n",
        "\n",
        "이번 파트에서는 [Gapminder](https://www.gapminder.org/about-gapminder/)의 데이터를 다루게 됩니다.\n",
        "\n",
        "데이터는 3가지로 구성되어 있습니다.\n",
        "\n",
        "- <https://ds-lecture-data.s3.ap-northeast-2.amazonaws.com/gapminder/data1.csv>\n",
        "- <https://ds-lecture-data.s3.ap-northeast-2.amazonaws.com/gapminder/data2.csv>\n",
        "- <https://ds-lecture-data.s3.ap-northeast-2.amazonaws.com/gapminder/data3.csv>"
      ],
      "metadata": {
        "id": "HjGBD5I5kJJc"
      }
    },
    {
      "cell_type": "markdown",
      "source": [
        "### **1-1. Load and Explore the Data**"
      ],
      "metadata": {
        "id": "Xx42xaNhkcHE"
      }
    },
    {
      "cell_type": "markdown",
      "source": [
        "#### **1-1-a. 각 데이터셋을 데이터프레임으로 불러와 변수 `df1`, `df2`, `df3`에 저장하세요.**"
      ],
      "metadata": {
        "id": "ayHE1-75k0gG"
      }
    },
    {
      "cell_type": "code",
      "source": [
        "# 이곳에 코드를 작성하세요."
      ],
      "metadata": {
        "id": "Fp2ReafhkL6l"
      },
      "execution_count": null,
      "outputs": []
    },
    {
      "cell_type": "markdown",
      "source": [
        "#### **1-1-b. 각 데이터프레임의 결측 데이터를 확인하세요.**"
      ],
      "metadata": {
        "id": "yA5n51wak5UA"
      }
    },
    {
      "cell_type": "code",
      "source": [
        "# 이곳에 코드를 작성하세요."
      ],
      "metadata": {
        "id": "2duzu8H8kOhP"
      },
      "execution_count": null,
      "outputs": []
    },
    {
      "cell_type": "markdown",
      "source": [
        "#### **1-1-c. 각 데이터프레임의 중복 데이터를 확인하세요.**"
      ],
      "metadata": {
        "id": "eddgIZtE7EMj"
      }
    },
    {
      "cell_type": "code",
      "source": [
        "# 이곳에 코드를 작성하세요."
      ],
      "metadata": {
        "id": "5cbO6RQXkQlz"
      },
      "execution_count": null,
      "outputs": []
    },
    {
      "cell_type": "markdown",
      "source": [
        "##### **Q1. 위에서 구한 데이터프레임의 결측 데이터의 수와 중복 데이터의 수를 각각 합한 값을 (`a`, `b`, `c`)의 형태로 쓰세요.**\n",
        "\n",
        "- `a`에는 `df1` 데이터프레임의 결측 데이터 수와 중복 데이터 수를 합한 값이 들어갑니다.\n",
        "- `b`에는 `df2` 데이터프레임의 결측 데이터 수와 중복 데이터 수를 합한 값이 들어갑니다.\n",
        "- `c`에는 `df3` 데이터프레임의 결측 데이터 수와 중복 데이터 수를 합한 값이 들어갑니다.\n",
        "\n",
        "\n"
      ],
      "metadata": {
        "id": "ZG7o_-d_bWCz"
      }
    },
    {
      "cell_type": "code",
      "source": [
        "# 이곳에 코드를 작성하세요."
      ],
      "metadata": {
        "id": "aphELmmAkTRt"
      },
      "execution_count": null,
      "outputs": []
    },
    {
      "cell_type": "markdown",
      "source": [
        "#### **1-1-d. `df1`에서 `geo` column의 usa와 chn 데이터만 추출하여, `time` 값에 따른 `cell_phones_total` 값의 변화를 볼 수 있도록 하나의 scatter plot을 그리세요.**\n",
        "- **Tip** : seaborn 라이브러리의 `.scatterplot()`을 사용하여 `hue` 파라미터를 설정할 수 있습니다. "
      ],
      "metadata": {
        "id": "r-MVrPzRlFJw"
      }
    },
    {
      "cell_type": "code",
      "source": [
        "# 이곳에 코드를 작성하세요."
      ],
      "metadata": {
        "id": "7iuXa1yzkZHp"
      },
      "execution_count": null,
      "outputs": []
    },
    {
      "cell_type": "markdown",
      "source": [
        "##### **Q2. Scatter plot에서 두 나라 중 2000년대 이후로 `cell_phones_total` 값이 더 급격하게 증가하는 나라의 `geo`를 쓰세요.**"
      ],
      "metadata": {
        "id": "Nhtw5Yy8bcde"
      }
    },
    {
      "cell_type": "markdown",
      "source": [
        "**`이곳에 Q2에 대한 답을 작성하세요.`**"
      ],
      "metadata": {
        "id": "2m5TI2nUkctn"
      }
    },
    {
      "cell_type": "markdown",
      "source": [
        "### **1-2. Join Data**\n",
        "\n",
        "세 데이터프레임을 합쳐, 하나의 데이터프레임으로 만들어봅니다."
      ],
      "metadata": {
        "id": "y_mV-YO0m4-C"
      }
    },
    {
      "cell_type": "markdown",
      "source": [
        "\n",
        "\n",
        "- `df1`과 `df2`에 공통으로 존재하는 column들을 확인한 후, 해당 공통 column들의 교집합인 데이터를 기준으로 합쳐 새로운 데이터프레임을 만드세요. \n",
        "- 위에서 만든 데이터프레임과 `df3`를 공통 column의 교집합인 데이터를 기준으로 합쳐 새로운 데이터프레임을 변수 `df4`에 저장하세요.\n",
        "  - `df4`는 다음과 같으며 shape은 (9568, 5)가 되어야 합니다.\n",
        "\n",
        "|geo|time|cell_phones_total|population|country|\n",
        "|:-:|:-:|:-:|:-:|:-:|\n",
        "|abw|1960|0|54211|Aruba|\n",
        "|...|...|...|...|...|\n",
        "|zwe|2019|13195902.0|14645468|Zimbabwe|"
      ],
      "metadata": {
        "id": "fq7w3-0TqgNp"
      }
    },
    {
      "cell_type": "code",
      "source": [
        "# 이곳에 코드를 작성하세요."
      ],
      "metadata": {
        "id": "7Z6AR9-RknJG"
      },
      "execution_count": null,
      "outputs": []
    },
    {
      "cell_type": "markdown",
      "source": [
        "##### **Q3. \b`df4`에서 `index==9500`에 해당하는 row의 모든 값을 (`geo`, `time`, `cell_phones_total`, `population`, `country`) 형태로 쓰세요. (단, 숫자형 데이터는 모두 정수형으로 씁니다.)** <br>\n",
        "> **ex)**\n",
        "> `index == 0` 인 경우에는 다음과 같이 표기합니다 **(abw, 1960, 0, 54211, Aruba)**"
      ],
      "metadata": {
        "id": "oXwt7WpSbxcF"
      }
    },
    {
      "cell_type": "markdown",
      "source": [
        "**`이곳에 Q3에 대한 답을 작성하세요.`**"
      ],
      "metadata": {
        "id": "LFPFDYmykpCM"
      }
    },
    {
      "cell_type": "markdown",
      "source": [
        "### **1-3. \bFeature Engineering**"
      ],
      "metadata": {
        "id": "Vq7LLqpcECa5"
      }
    },
    {
      "cell_type": "markdown",
      "source": [
        "#### **1-3-a. 인구당 cell phone 수를 나타내는 데이터를 새로운 feature `PPP`에 저장하세요.**\n",
        "```\n",
        "(인구당 cell phone 수 (PPP)) = (cell phone 총 개수) / (인구)\n",
        "```"
      ],
      "metadata": {
        "id": "NAzl4SBlEL5a"
      }
    },
    {
      "cell_type": "code",
      "source": [
        "# 이곳에 코드를 작성하세요."
      ],
      "metadata": {
        "id": "VzqvhHWCkvZg"
      },
      "execution_count": null,
      "outputs": []
    },
    {
      "cell_type": "markdown",
      "source": [
        "#### **1-3-b. 나라별 평균 PPP를 구하고, 평균 PPP 값이 높은 순서대로 데이터를 정렬하세요.**\n",
        "- 결과는 데이터프레임 형태로 반환합니다. \n",
        "- 데이터 정렬 후 index를 재설정하세요. \n",
        "\n",
        "|country|PPP|\n",
        "|:-:|:-:|\n",
        "|\bSint Maarten (Dutch part)|1.899506|\n",
        "|Montenegro|1.574349|\n",
        "|Curaçao|1.259227|\n",
        "|Serbia|0.951586|\n",
        "|Israel|0.840197|\n",
        "|Macao, China|0.818130|\n",
        "|...|...|"
      ],
      "metadata": {
        "id": "AB5ZqJ2S9fJt"
      }
    },
    {
      "cell_type": "code",
      "source": [
        "# 이곳에 코드를 작성하세요."
      ],
      "metadata": {
        "id": "Pudss0oKkyPA"
      },
      "execution_count": null,
      "outputs": []
    },
    {
      "cell_type": "markdown",
      "source": [
        "##### **Q4. 위 과정을 모두 수행한 데이터프레임에서 `index==210`인 나라는 어디인가요?**\n",
        "\n",
        "> **ex)** `index == 0` 인 나라는 **Sint Maarten (Dutch part)** 입니다."
      ],
      "metadata": {
        "id": "aV3duiXvcGYq"
      }
    },
    {
      "cell_type": "markdown",
      "source": [
        "**`이곳에 Q4에 대한 답을 작성하세요.`**"
      ],
      "metadata": {
        "id": "rXfXYphJk0Yj"
      }
    },
    {
      "cell_type": "markdown",
      "source": [
        "## **Part 2. Data Visualization**\n",
        "\n",
        "이번 파트에서는 **FiveThirtyEight's article, [Every Guest Jon Stewart Ever Had On ‘The Daily Show’](https://fivethirtyeight.com/features/every-guest-jon-stewart-ever-had-on-the-daily-show/)** 의 데이터를 다루게 됩니다.\n",
        "\n",
        "아래 cell 을 실행하면 자동으로 data가 load 되며, `data_for_graph`라는 이름의 dataframe을 얻게 됩니다. \n",
        "\n",
        "(원하신다면 추가 시각화를 하셔도 상관없지만, 이번 파트에서의 요구사항은 아닙니다.)\n"
      ],
      "metadata": {
        "id": "YfaKbcojBp65"
      }
    },
    {
      "cell_type": "code",
      "source": [
        "%matplotlib inline\n",
        "import matplotlib.pyplot as plt\n",
        "import numpy as np\n",
        "import pandas as pd\n",
        "import seaborn as sns\n",
        "import datetime\n",
        "\n",
        "cable_news_url = 'https://raw.githubusercontent.com/fivethirtyeight/data/master/media-mentions-2020/cable_weekly.csv'\n",
        "online_news_url = 'https://raw.githubusercontent.com/fivethirtyeight/data/master/media-mentions-2020/online_weekly.csv'\n",
        "\n",
        "cable = pd.read_csv(cable_news_url)\n",
        "online = pd.read_csv(online_news_url)\n",
        "\n",
        "merged = pd.merge(cable[['date', 'name', 'pct_of_all_candidate_clips']], online[['date', 'name', 'pct_of_all_candidate_stories']])\n",
        "merged['date'] = pd.to_datetime(merged['date'], infer_datetime_format=True)\n",
        "merged = merged.set_index('date')\n",
        "\n",
        "unique_dates = list(set(merged.index.to_list()))\n",
        "\n",
        "import datetime\n",
        "\n",
        "joe_biden_cable_multiple = []\n",
        "joe_biden_online_multiple = []\n",
        "\n",
        "for date in unique_dates:\n",
        "  #that_day = merged.loc[datetime.date(year=date.year, month=date.month, day=date.day)]\n",
        "  str_date = str(date.year)+\"-\"+str(date.month) + \"-\" + str(date.day)\n",
        "  that_day = merged.loc[str_date]\n",
        "\n",
        "  joe_biden_cable_that_day = that_day[that_day['name']==\"Joe Biden\"]['pct_of_all_candidate_clips']\n",
        "  not_joe_biden_cable_max = that_day[that_day['name']!=\"Joe Biden\"]['pct_of_all_candidate_clips'].max()\n",
        "  joe_biden_cable_multiple_of_max = joe_biden_cable_that_day / not_joe_biden_cable_max\n",
        "\n",
        "  joe_biden_online_that_day = that_day[that_day['name']==\"Joe Biden\"]['pct_of_all_candidate_stories']\n",
        "  not_joe_biden_online_max = that_day[that_day['name']!=\"Joe Biden\"]['pct_of_all_candidate_stories'].max()\n",
        "  joe_biden_online_multiple_of_max = joe_biden_online_that_day / not_joe_biden_online_max\n",
        "\n",
        "\n",
        "  joe_biden_cable_multiple.append(joe_biden_cable_multiple_of_max.values[0])\n",
        "  joe_biden_online_multiple.append(joe_biden_online_multiple_of_max.values[0])\n",
        "\n",
        "df = pd.DataFrame({'date': unique_dates, 'biden_cable_multiple':joe_biden_cable_multiple, 'biden_online_multiple': joe_biden_online_multiple})\n",
        "\n",
        "df['Month'] = df['date'].dt.month \n",
        "df = df.set_index('date')\n",
        "df = df.sort_index()\n",
        "# df.head()\n",
        "\n",
        "data_for_graph = df.loc[datetime.date(2019, 1, 1):]\n",
        "print(data_for_graph.shape)\n",
        "data_for_graph.head()"
      ],
      "metadata": {
        "colab": {
          "base_uri": "https://localhost:8080/",
          "height": 255
        },
        "id": "JWHhkhweCI21",
        "outputId": "ea025336-fbd7-4145-80d7-3b65a306bd05"
      },
      "execution_count": null,
      "outputs": [
        {
          "output_type": "stream",
          "name": "stdout",
          "text": [
            "(42, 3)\n"
          ]
        },
        {
          "output_type": "execute_result",
          "data": {
            "text/plain": [
              "            biden_cable_multiple  biden_online_multiple  Month\n",
              "date                                                          \n",
              "2019-01-06              0.431604               0.492401      1\n",
              "2019-01-13              0.990476               0.360000      1\n",
              "2019-01-20              0.423497               0.440758      1\n",
              "2019-01-27              0.204420               0.274752      1\n",
              "2019-02-03              0.276596               0.334471      2"
            ],
            "text/html": [
              "\n",
              "  <div id=\"df-6734d4e0-1bbe-4545-b3f8-b111d00a09fa\">\n",
              "    <div class=\"colab-df-container\">\n",
              "      <div>\n",
              "<style scoped>\n",
              "    .dataframe tbody tr th:only-of-type {\n",
              "        vertical-align: middle;\n",
              "    }\n",
              "\n",
              "    .dataframe tbody tr th {\n",
              "        vertical-align: top;\n",
              "    }\n",
              "\n",
              "    .dataframe thead th {\n",
              "        text-align: right;\n",
              "    }\n",
              "</style>\n",
              "<table border=\"1\" class=\"dataframe\">\n",
              "  <thead>\n",
              "    <tr style=\"text-align: right;\">\n",
              "      <th></th>\n",
              "      <th>biden_cable_multiple</th>\n",
              "      <th>biden_online_multiple</th>\n",
              "      <th>Month</th>\n",
              "    </tr>\n",
              "    <tr>\n",
              "      <th>date</th>\n",
              "      <th></th>\n",
              "      <th></th>\n",
              "      <th></th>\n",
              "    </tr>\n",
              "  </thead>\n",
              "  <tbody>\n",
              "    <tr>\n",
              "      <th>2019-01-06</th>\n",
              "      <td>0.431604</td>\n",
              "      <td>0.492401</td>\n",
              "      <td>1</td>\n",
              "    </tr>\n",
              "    <tr>\n",
              "      <th>2019-01-13</th>\n",
              "      <td>0.990476</td>\n",
              "      <td>0.360000</td>\n",
              "      <td>1</td>\n",
              "    </tr>\n",
              "    <tr>\n",
              "      <th>2019-01-20</th>\n",
              "      <td>0.423497</td>\n",
              "      <td>0.440758</td>\n",
              "      <td>1</td>\n",
              "    </tr>\n",
              "    <tr>\n",
              "      <th>2019-01-27</th>\n",
              "      <td>0.204420</td>\n",
              "      <td>0.274752</td>\n",
              "      <td>1</td>\n",
              "    </tr>\n",
              "    <tr>\n",
              "      <th>2019-02-03</th>\n",
              "      <td>0.276596</td>\n",
              "      <td>0.334471</td>\n",
              "      <td>2</td>\n",
              "    </tr>\n",
              "  </tbody>\n",
              "</table>\n",
              "</div>\n",
              "      <button class=\"colab-df-convert\" onclick=\"convertToInteractive('df-6734d4e0-1bbe-4545-b3f8-b111d00a09fa')\"\n",
              "              title=\"Convert this dataframe to an interactive table.\"\n",
              "              style=\"display:none;\">\n",
              "        \n",
              "  <svg xmlns=\"http://www.w3.org/2000/svg\" height=\"24px\"viewBox=\"0 0 24 24\"\n",
              "       width=\"24px\">\n",
              "    <path d=\"M0 0h24v24H0V0z\" fill=\"none\"/>\n",
              "    <path d=\"M18.56 5.44l.94 2.06.94-2.06 2.06-.94-2.06-.94-.94-2.06-.94 2.06-2.06.94zm-11 1L8.5 8.5l.94-2.06 2.06-.94-2.06-.94L8.5 2.5l-.94 2.06-2.06.94zm10 10l.94 2.06.94-2.06 2.06-.94-2.06-.94-.94-2.06-.94 2.06-2.06.94z\"/><path d=\"M17.41 7.96l-1.37-1.37c-.4-.4-.92-.59-1.43-.59-.52 0-1.04.2-1.43.59L10.3 9.45l-7.72 7.72c-.78.78-.78 2.05 0 2.83L4 21.41c.39.39.9.59 1.41.59.51 0 1.02-.2 1.41-.59l7.78-7.78 2.81-2.81c.8-.78.8-2.07 0-2.86zM5.41 20L4 18.59l7.72-7.72 1.47 1.35L5.41 20z\"/>\n",
              "  </svg>\n",
              "      </button>\n",
              "      \n",
              "  <style>\n",
              "    .colab-df-container {\n",
              "      display:flex;\n",
              "      flex-wrap:wrap;\n",
              "      gap: 12px;\n",
              "    }\n",
              "\n",
              "    .colab-df-convert {\n",
              "      background-color: #E8F0FE;\n",
              "      border: none;\n",
              "      border-radius: 50%;\n",
              "      cursor: pointer;\n",
              "      display: none;\n",
              "      fill: #1967D2;\n",
              "      height: 32px;\n",
              "      padding: 0 0 0 0;\n",
              "      width: 32px;\n",
              "    }\n",
              "\n",
              "    .colab-df-convert:hover {\n",
              "      background-color: #E2EBFA;\n",
              "      box-shadow: 0px 1px 2px rgba(60, 64, 67, 0.3), 0px 1px 3px 1px rgba(60, 64, 67, 0.15);\n",
              "      fill: #174EA6;\n",
              "    }\n",
              "\n",
              "    [theme=dark] .colab-df-convert {\n",
              "      background-color: #3B4455;\n",
              "      fill: #D2E3FC;\n",
              "    }\n",
              "\n",
              "    [theme=dark] .colab-df-convert:hover {\n",
              "      background-color: #434B5C;\n",
              "      box-shadow: 0px 1px 3px 1px rgba(0, 0, 0, 0.15);\n",
              "      filter: drop-shadow(0px 1px 2px rgba(0, 0, 0, 0.3));\n",
              "      fill: #FFFFFF;\n",
              "    }\n",
              "  </style>\n",
              "\n",
              "      <script>\n",
              "        const buttonEl =\n",
              "          document.querySelector('#df-6734d4e0-1bbe-4545-b3f8-b111d00a09fa button.colab-df-convert');\n",
              "        buttonEl.style.display =\n",
              "          google.colab.kernel.accessAllowed ? 'block' : 'none';\n",
              "\n",
              "        async function convertToInteractive(key) {\n",
              "          const element = document.querySelector('#df-6734d4e0-1bbe-4545-b3f8-b111d00a09fa');\n",
              "          const dataTable =\n",
              "            await google.colab.kernel.invokeFunction('convertToInteractive',\n",
              "                                                     [key], {});\n",
              "          if (!dataTable) return;\n",
              "\n",
              "          const docLinkHtml = 'Like what you see? Visit the ' +\n",
              "            '<a target=\"_blank\" href=https://colab.research.google.com/notebooks/data_table.ipynb>data table notebook</a>'\n",
              "            + ' to learn more about interactive tables.';\n",
              "          element.innerHTML = '';\n",
              "          dataTable['output_type'] = 'display_data';\n",
              "          await google.colab.output.renderOutput(dataTable, element);\n",
              "          const docLink = document.createElement('div');\n",
              "          docLink.innerHTML = docLinkHtml;\n",
              "          element.appendChild(docLink);\n",
              "        }\n",
              "      </script>\n",
              "    </div>\n",
              "  </div>\n",
              "  "
            ]
          },
          "metadata": {},
          "execution_count": 1
        }
      ]
    },
    {
      "cell_type": "markdown",
      "source": [
        "#### **2-1. `data_for_graph`에서 각 column의 <u>월별 평균 값</u>을 Line graph로 그리세요.**\n",
        "> 아래의 조건을 모두 만족해야 합니다.\n",
        "\n",
        "- `Cable News` vs `Online News` 2개의 line graph가 보여야 합니다. \n",
        "- 각 라인은 다른 색을 가져야 합니다. \n",
        "- 각 라인이 `Cable News`와 `Online News` 중 무엇을 나타내는지 범례를 표시합니다.\n",
        "- 타이틀을 다음 내용으로 만드세요. _\"Biden's Ukraine-related media bump is fading\"_\n"
      ],
      "metadata": {
        "id": "micMU5anCQy-"
      }
    },
    {
      "cell_type": "code",
      "source": [
        "# 이곳에 코드를 작성하세요."
      ],
      "metadata": {
        "id": "xk1u0rNek9uI"
      },
      "execution_count": null,
      "outputs": []
    },
    {
      "cell_type": "markdown",
      "source": [
        "##### **Q5. `Cable News`와 `Online News` 중 6월~8월 사이에 <u>월별 평균 값</u>이 더 높은 것은 무엇인가요?**"
      ],
      "metadata": {
        "id": "DB-gnoX5cMJs"
      }
    },
    {
      "cell_type": "markdown",
      "source": [
        "**`이곳에 Q5에 대한 답을 작성하세요.`**"
      ],
      "metadata": {
        "id": "knCVBPllk_my"
      }
    },
    {
      "cell_type": "markdown",
      "source": [
        "## **Part 3. 도전 과제**\n",
        "위에서 요구된 사항들을 모두 정확하게 만족하였으며, 아래 내용 또한 만족하는 경우 3점을 얻을 수 있습니다.  \n",
        "\n",
        "아래 요구사항은 **optional** 임을 다시 한 번 강조합니다. (필수 요구사항이 아닙니다.)"
      ],
      "metadata": {
        "id": "YuaYXvtdC4TY"
      }
    },
    {
      "cell_type": "markdown",
      "source": [
        "### **3-1. Filtering**"
      ],
      "metadata": {
        "id": "ohfDyAq4QSB4"
      }
    },
    {
      "cell_type": "markdown",
      "source": [
        "##### **Q6. 2017년은 중국에서 people(인구수)보다 cell phone 개수가 더 많아지는 첫 번째 해입니다. 미국의 경우, cell phone의 개수가 people보다 더 많아지는 첫 번째 해는 언제인가요?**\n",
        "  - **Part1**의 `df4`로부터 답을 도출합니다. \n"
      ],
      "metadata": {
        "id": "wwy9vqffcbv8"
      }
    },
    {
      "cell_type": "code",
      "source": [
        "# 이곳에 코드를 작성하세요."
      ],
      "metadata": {
        "id": "fAP57XfslZfX"
      },
      "execution_count": null,
      "outputs": []
    },
    {
      "cell_type": "markdown",
      "source": [
        "### **3-2. Advanced Visualization**\n",
        "\n",
        "**Part 2**에서 그린 그래프를 마케팅 부서에 전달하려고 합니다. 이때 다른 사람들이 그래프를 이해할 수 있도록 완성도를 높여야 합니다."
      ],
      "metadata": {
        "id": "v0e5TOstcmlD"
      }
    },
    {
      "cell_type": "markdown",
      "source": [
        "#### **다음 순서에 따라 시각화의 완성도를 높여 보세요.**\n",
        "\n",
        "- 그래프의 스타일을 지정해 봅니다. \n",
        "  - `plt.style.available`이 어떤 메소드인지 찾아보고, 이를 실행했을 때 반환되는 결과들에 대해서 알아보세요. \n",
        "    - [Style Plots using Matplotlib](https://www.geeksforgeeks.org/style-plots-using-matplotlib/#:~:text=Matplotlib%20is%20the%20most%20popular,without%20using%20any%20other%20GUIs) \n",
        "    - [Style sheets reference](https://matplotlib.org/stable/gallery/style_sheets/style_sheets_reference.html)\n",
        "  - 검색한 내용을 바탕으로 본인이 원하는 스타일로 지정해 봅니다. \n",
        "- **Part2** 에서 그린 그래프보다 크기가 커지도록 크기를 조정합니다. \n",
        "- **Part2** 에서 그린 그래프의 x축에는 짝수 월만 표시되어 있습니다. x축 단위를 지정하여 홀수 월도 모두 표시되도록 합니다. \n",
        "- x축과 y축에 각각 label(이름)을 붙여 봅니다. \n",
        "- title이 강조되도록 title의 크기를 키운 후 bold 처리해 줍니다. \n",
        "- 그래프가 나타내는 바를 이해할 수 있도록 다음 부제목을 추가하고, title보다 작은 크기로 설정합니다. \"Biden's share of media mentions on each medium relative to the next most-mentioned candidate each week\"\n",
        "  - 가독성을 위해 문장 중간에 `\\n`을 삽입해보세요.\n",
        "  - 부제목의 위치를 조정하여 title 바로 아래에 위치하도록 합니다. \n",
        "- 각 라인이 `Cable News`와 `Online News` 중 무엇을 나타내는지 명시해 줍니다."
      ],
      "metadata": {
        "id": "SooimHSnAA-k"
      }
    },
    {
      "cell_type": "code",
      "source": [
        "# 이곳에 코드를 작성하세요."
      ],
      "metadata": {
        "id": "NS9a9yyHldiO"
      },
      "execution_count": null,
      "outputs": []
    },
    {
      "cell_type": "markdown",
      "source": [
        "##### **Q7. 완성한 시각화의 이미지의 URL을 복사하여 붙여넣어주세요.**\n",
        "\n",
        "- 다음 이미지를 참고하여 이미지의 URL을 복사하여 붙여넣어주세요.\n",
        "\n",
        "    1. 출력된 이미지 위에서 마우스 우클릭 후 해당 이미지를 저장합니다.\n",
        "    2. 저장한 이미지 파일을 [이미지 URL 생성 페이지](http://imgur.com/upload)에 업로드합니다.\n",
        "    3. 업로드 된 이미지 위에서 마우스 우클릭 후 해당 이미지의 주소를 복사합니다.\n",
        "\n",
        "\n",
        "\n",
        "\n",
        "<img src='https://i.imgur.com/Hu8vce7.png' width=\"360\" height=\"350\">\n",
        "<img src='https://i.imgur.com/Y00z7IY.png' width=\"280\" height=\"350\">\n",
        "<img src='https://i.imgur.com/egZNZp0.png' width=\"320\" height=\"350\">"
      ],
      "metadata": {
        "id": "GjTfdTxdb_MI"
      }
    },
    {
      "cell_type": "code",
      "source": [
        "# 위와 같이 복사한 URL이 아래의 예시와 동일한 형식인지 확인한 후 url 변수에 저장하세요.\n",
        "\n",
        "# 예시 : \"https://i.imgur.com/xxxxxx.png\"\n",
        "url = \"여기에 변환된 이미지 URL을 입력해주세요\""
      ],
      "metadata": {
        "id": "GduyMLT3IQYF"
      },
      "execution_count": null,
      "outputs": []
    },
    {
      "cell_type": "code",
      "source": [
        "# 위의 셀을 실행했다면 아래 주석처리 되어있는 부분의 주석을 풀고 셀을 실행해보세요.\n",
        "# 이미지가 잘 출력되었다면 UrClass에 URL을 제출해주세요.\n",
        "\n",
        "import urllib.request\n",
        "from PIL import Image\n",
        "\n",
        "# display(Image.open(urllib.request.urlretrieve(url)[0]))"
      ],
      "metadata": {
        "id": "SYEed5qlI8Mt"
      },
      "execution_count": null,
      "outputs": []
    }
  ]
}